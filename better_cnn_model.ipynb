{
  "nbformat": 4,
  "nbformat_minor": 0,
  "metadata": {
    "colab": {
      "name": "practice.ipynb",
      "provenance": [],
      "collapsed_sections": [],
      "mount_file_id": "1mn_tz5RsapQjCbFOTdj_GkLrx6tL5wtl",
      "authorship_tag": "ABX9TyOVNl3STZLO0uyuNB6JpGqq",
      "include_colab_link": true
    },
    "kernelspec": {
      "display_name": "Python 3",
      "name": "python3"
    },
    "accelerator": "GPU"
  },
  "cells": [
    {
      "cell_type": "markdown",
      "metadata": {
        "id": "view-in-github",
        "colab_type": "text"
      },
      "source": [
        "<a href=\"https://colab.research.google.com/github/Abdullah042973/AI-in-medical-domain/blob/main/better_cnn_model.ipynb\" target=\"_parent\"><img src=\"https://colab.research.google.com/assets/colab-badge.svg\" alt=\"Open In Colab\"/></a>"
      ]
    },
    {
      "cell_type": "code",
      "metadata": {
        "id": "8xJWPDldPSk9"
      },
      "source": [
        "from tensorflow.compat.v1 import ConfigProto\n",
        "from tensorflow.compat.v1 import InteractiveSession\n",
        " \n",
        "config = ConfigProto()\n",
        "config.gpu_options.per_process_gpu_memory_fraction = 1\n",
        "config.gpu_options.allow_growth = True\n",
        "session = InteractiveSession(config=config)\n",
        " \n",
        " \n",
        "import tensorflow as tf\n",
        "from tensorflow.keras.preprocessing.image import ImageDataGenerator\n",
        "#data augmentation\n",
        "train_datagen = ImageDataGenerator(rescale = 1./255,shear_range = 0.2,zoom_range = 0.2,horizontal_flip = True)"
      ],
      "execution_count": null,
      "outputs": []
    },
    {
      "cell_type": "code",
      "metadata": {
        "colab": {
          "background_save": true,
          "base_uri": "https://localhost:8080/"
        },
        "id": "zC7cdwOHPaPO",
        "outputId": "0971b3c9-a07f-4ce7-af98-a893fc7d2ef6"
      },
      "source": [
        "training_set = train_datagen.flow_from_directory('/content/drive/MyDrive/covid xray and ct scan/train',\n",
        "                                                 target_size = (64, 64),\n",
        "                                                 batch_size = 32,\n",
        "                                                 class_mode = 'categorical')"
      ],
      "execution_count": null,
      "outputs": [
        {
          "output_type": "stream",
          "text": [
            "Found 6310 images belonging to 7 classes.\n"
          ],
          "name": "stdout"
        }
      ]
    },
    {
      "cell_type": "code",
      "metadata": {
        "colab": {
          "background_save": true,
          "base_uri": "https://localhost:8080/"
        },
        "id": "qWLX28sBPwCs",
        "outputId": "42b86217-605f-456b-bfa8-9a374a60f042"
      },
      "source": [
        "# Preprocessing the Test set\n",
        "test_datagen = ImageDataGenerator(rescale = 1./255)\n",
        "test_set = test_datagen.flow_from_directory('/content/drive/MyDrive/covid xray and ct scan/test',\n",
        "                                            target_size = (64, 64),\n",
        "                                            batch_size = 32,\n",
        "                                            class_mode = 'categorical')"
      ],
      "execution_count": null,
      "outputs": [
        {
          "output_type": "stream",
          "text": [
            "Found 975 images belonging to 7 classes.\n"
          ],
          "name": "stdout"
        }
      ]
    },
    {
      "cell_type": "code",
      "metadata": {
        "colab": {
          "background_save": true
        },
        "id": "ok632BPdPxfZ"
      },
      "source": [
        "from tensorflow.keras.layers import Conv2D\n",
        "from tensorflow.keras.layers import Dense\n",
        "from tensorflow.keras.regularizers import l2"
      ],
      "execution_count": null,
      "outputs": []
    },
    {
      "cell_type": "code",
      "metadata": {
        "colab": {
          "background_save": true,
          "base_uri": "https://localhost:8080/"
        },
        "id": "uQm6_jFpPz5t",
        "outputId": "ed42e825-84ff-438b-eda3-66e64cbb3aee"
      },
      "source": [
        "def createmodel():\n",
        "  # Part 2 - Building the CNN\n",
        "  # Initialising the CNN\n",
        "  cnn = tf.keras.models.Sequential()\n",
        "  # Step 1 - Convolution\n",
        "  cnn.add(tf.keras.layers.Conv2D(filters=32,padding=\"same\",kernel_size=3, activation='relu', strides=2, input_shape=[64, 64, 3]))\n",
        "  # Step 2 - Pooling\n",
        "  cnn.add(tf.keras.layers.MaxPool2D(pool_size=2, strides=2))\n",
        "  # Adding a second convolutional layer\n",
        "  cnn.add(tf.keras.layers.Conv2D(filters=32,padding='same',kernel_size=3, activation='relu'))\n",
        "  cnn.add(tf.keras.layers.MaxPool2D(pool_size=2, strides=2))\n",
        "  # Step 3 - Flattening\n",
        "  cnn.add(tf.keras.layers.Flatten())\n",
        "  # Step 4 - Full Connection\n",
        "  cnn.add(tf.keras.layers.Dense(units=128, activation='relu'))\n",
        "  # Step 5 - Output Layer\n",
        "  #cnn.add(tf.keras.layers.Dense(units=1, activation='sigmoid'))\n",
        "  cnn.add(Dense(7, kernel_regularizer=tf.keras.regularizers.l2(0.001),activation='softmax'))\n",
        "  cnn.compile(optimizer = 'adam', loss = 'categorical_crossentropy', metrics = ['accuracy'])\n",
        "  return cnn\n",
        " \n",
        "model = createmodel()\n",
        "model.summary()"
      ],
      "execution_count": null,
      "outputs": [
        {
          "output_type": "stream",
          "text": [
            "Model: \"sequential\"\n",
            "_________________________________________________________________\n",
            "Layer (type)                 Output Shape              Param #   \n",
            "=================================================================\n",
            "conv2d (Conv2D)              (None, 32, 32, 32)        896       \n",
            "_________________________________________________________________\n",
            "max_pooling2d (MaxPooling2D) (None, 16, 16, 32)        0         \n",
            "_________________________________________________________________\n",
            "conv2d_1 (Conv2D)            (None, 16, 16, 32)        9248      \n",
            "_________________________________________________________________\n",
            "max_pooling2d_1 (MaxPooling2 (None, 8, 8, 32)          0         \n",
            "_________________________________________________________________\n",
            "flatten (Flatten)            (None, 2048)              0         \n",
            "_________________________________________________________________\n",
            "dense (Dense)                (None, 128)               262272    \n",
            "_________________________________________________________________\n",
            "dense_1 (Dense)              (None, 7)                 903       \n",
            "=================================================================\n",
            "Total params: 273,319\n",
            "Trainable params: 273,319\n",
            "Non-trainable params: 0\n",
            "_________________________________________________________________\n"
          ],
          "name": "stdout"
        }
      ]
    },
    {
      "cell_type": "code",
      "metadata": {
        "colab": {
          "background_save": true,
          "base_uri": "https://localhost:8080/"
        },
        "id": "MsdGRAbxP7tw",
        "outputId": "e634cd4c-ab19-44f3-f9c7-59c2f8ed410b"
      },
      "source": [
        "model = createmodel()\n",
        "r=model.fit(x = training_set, validation_data = test_set, epochs = 20)"
      ],
      "execution_count": null,
      "outputs": [
        {
          "output_type": "stream",
          "text": [
            "Epoch 1/20\n",
            "198/198 [==============================] - 5250s 27s/step - loss: 1.1634 - accuracy: 0.5355 - val_loss: 0.5754 - val_accuracy: 0.8072\n",
            "Epoch 2/20\n",
            "198/198 [==============================] - 138s 698ms/step - loss: 0.6907 - accuracy: 0.7347 - val_loss: 0.7293 - val_accuracy: 0.7210\n",
            "Epoch 3/20\n",
            "198/198 [==============================] - 123s 620ms/step - loss: 0.6180 - accuracy: 0.7521 - val_loss: 0.4521 - val_accuracy: 0.8687\n",
            "Epoch 4/20\n",
            "198/198 [==============================] - 123s 621ms/step - loss: 0.5657 - accuracy: 0.7757 - val_loss: 0.4815 - val_accuracy: 0.8595\n",
            "Epoch 5/20\n",
            "198/198 [==============================] - 123s 620ms/step - loss: 0.5510 - accuracy: 0.7836 - val_loss: 0.5005 - val_accuracy: 0.8564\n",
            "Epoch 6/20\n",
            "198/198 [==============================] - 123s 621ms/step - loss: 0.5391 - accuracy: 0.7825 - val_loss: 0.5030 - val_accuracy: 0.8554\n",
            "Epoch 7/20\n",
            "198/198 [==============================] - 131s 662ms/step - loss: 0.5287 - accuracy: 0.7886 - val_loss: 0.4352 - val_accuracy: 0.8697\n",
            "Epoch 8/20\n",
            "198/198 [==============================] - 124s 629ms/step - loss: 0.5092 - accuracy: 0.7940 - val_loss: 0.4464 - val_accuracy: 0.8677\n",
            "Epoch 9/20\n",
            "198/198 [==============================] - 124s 628ms/step - loss: 0.5095 - accuracy: 0.8030 - val_loss: 0.4220 - val_accuracy: 0.8749\n",
            "Epoch 10/20\n",
            "198/198 [==============================] - 125s 634ms/step - loss: 0.4867 - accuracy: 0.8039 - val_loss: 0.4187 - val_accuracy: 0.8728\n",
            "Epoch 11/20\n",
            "198/198 [==============================] - 127s 643ms/step - loss: 0.4824 - accuracy: 0.8042 - val_loss: 0.4514 - val_accuracy: 0.8708\n",
            "Epoch 12/20\n",
            "198/198 [==============================] - 138s 695ms/step - loss: 0.4637 - accuracy: 0.8176 - val_loss: 0.3907 - val_accuracy: 0.8831\n",
            "Epoch 13/20\n",
            "198/198 [==============================] - 129s 651ms/step - loss: 0.4648 - accuracy: 0.8015 - val_loss: 0.3966 - val_accuracy: 0.8841\n",
            "Epoch 14/20\n",
            "198/198 [==============================] - 129s 653ms/step - loss: 0.4621 - accuracy: 0.8145 - val_loss: 0.3975 - val_accuracy: 0.8903\n",
            "Epoch 15/20\n",
            "198/198 [==============================] - 127s 643ms/step - loss: 0.4641 - accuracy: 0.8104 - val_loss: 0.4143 - val_accuracy: 0.8903\n",
            "Epoch 16/20\n",
            "198/198 [==============================] - 128s 644ms/step - loss: 0.4556 - accuracy: 0.8161 - val_loss: 0.4504 - val_accuracy: 0.8513\n",
            "Epoch 17/20\n",
            "198/198 [==============================] - 129s 650ms/step - loss: 0.4425 - accuracy: 0.8202 - val_loss: 0.4316 - val_accuracy: 0.8636\n",
            "Epoch 18/20\n",
            "198/198 [==============================] - 130s 658ms/step - loss: 0.4265 - accuracy: 0.8229 - val_loss: 0.4738 - val_accuracy: 0.8492\n",
            "Epoch 19/20\n",
            "198/198 [==============================] - 126s 638ms/step - loss: 0.4366 - accuracy: 0.8258 - val_loss: 0.4859 - val_accuracy: 0.8605\n",
            "Epoch 20/20\n",
            "198/198 [==============================] - 128s 644ms/step - loss: 0.4395 - accuracy: 0.8160 - val_loss: 0.4314 - val_accuracy: 0.8831\n"
          ],
          "name": "stdout"
        }
      ]
    },
    {
      "cell_type": "code",
      "metadata": {
        "colab": {
          "background_save": true
        },
        "id": "G9_2g6zorjQV",
        "outputId": "37bcc7f4-1bac-4d2e-d75f-0f5478796941"
      },
      "source": [
        "# plot the loss\n",
        "import matplotlib.pyplot as plt\n",
        "plt.plot(r.history['loss'], label='train loss')\n",
        "plt.plot(r.history['val_loss'], label='val loss')\n",
        "plt.legend()\n",
        "plt.show()\n",
        "plt.savefig('LossVal_loss')\n",
        " \n",
        "# plot the accuracy\n",
        "plt.plot(r.history['accuracy'], label='train acc')\n",
        "plt.plot(r.history['val_accuracy'], label='val acc')\n",
        "plt.legend()\n",
        "plt.show()\n",
        "plt.savefig('AccVal_acc')"
      ],
      "execution_count": null,
      "outputs": [
        {
          "output_type": "display_data",
          "data": {
            "image/png": "[encoded data removed]",
            "text/plain": [
              "<Figure size 432x288 with 1 Axes>"
            ]
          },
          "metadata": {
            "tags": []
          }
        },
        {
          "output_type": "display_data",
          "data": {
            "image/png": "[encoded data removed]",
            "text/plain": [
              "<Figure size 432x288 with 1 Axes>"
            ]
          },
          "metadata": {
            "tags": []
          }
        },
        {
          "output_type": "display_data",
          "data": {
            "text/plain": [
              "<Figure size 432x288 with 0 Axes>"
            ]
          },
          "metadata": {
            "tags": []
          }
        }
      ]
    },
    {
      "cell_type": "code",
      "metadata": {
        "colab": {
          "background_save": true
        },
        "id": "GWVc7I7dr70O",
        "outputId": "33b945b4-b625-454c-9cef-153954bb7368"
      },
      "source": [
        "import numpy as np\n",
        "from tensorflow.keras.preprocessing import image\n",
        "test_image = image.load_img('/content/drive/MyDrive/covid xray and ct scan/test/NORMAL/NORMAL2-IM-0007-0001.jpeg', target_size = (64,64))\n",
        "test_image = image.img_to_array(test_image)\n",
        "test_image=test_image/255\n",
        "test_image = np.expand_dims(test_image, axis = 0)\n",
        "result = model.predict(test_image)\n",
        "result"
      ],
      "execution_count": null,
      "outputs": [
        {
          "output_type": "execute_result",
          "data": {
            "text/plain": [
              "array([[5.1575322e-03, 1.3459766e-01, 7.4950856e-01, 3.6098141e-02,\n",
              "        7.2986640e-02, 5.2756164e-04, 1.1237895e-03]], dtype=float32)"
            ]
          },
          "metadata": {
            "tags": []
          },
          "execution_count": 0
        }
      ]
    },
    {
      "cell_type": "code",
      "metadata": {
        "colab": {
          "background_save": true
        },
        "id": "2e9Swkhy1PO4",
        "outputId": "04176a31-76ba-4b62-a201-e55e6d84ef68"
      },
      "source": [
        "import numpy as np\n",
        "from tensorflow.keras.preprocessing import image\n",
        "test_image = image.load_img('/content/drive/MyDrive/covid xray and ct scan/train/COVID 19/COVID-19 (116).png', target_size = (64,64))\n",
        "test_image = image.img_to_array(test_image)\n",
        "test_image=test_image/255\n",
        "test_image = np.expand_dims(test_image, axis = 0)\n",
        "result = model.predict(test_image)\n",
        "result"
      ],
      "execution_count": null,
      "outputs": [
        {
          "output_type": "execute_result",
          "data": {
            "text/plain": [
              "array([[3.63362597e-06, 9.98988211e-01, 1.03035774e-07, 2.56560099e-07,\n",
              "        1.44550881e-07, 9.99519369e-04, 8.08880577e-06]], dtype=float32)"
            ]
          },
          "metadata": {
            "tags": []
          },
          "execution_count": 0
        }
      ]
    },
    {
      "cell_type": "code",
      "metadata": {
        "id": "AC-ZtyyJizcj"
      },
      "source": [
        "from google.colab import drive\n",
        "drive.mount('/content/drive')"
      ],
      "execution_count": null,
      "outputs": []
    },
    {
      "cell_type": "code",
      "metadata": {
        "colab": {
          "background_save": true
        },
        "id": "ZOqUA1t61Srv",
        "outputId": "83772c16-3cac-4d3f-a9e9-e95a7d4e3c1f"
      },
      "source": [
        "import numpy as np\n",
        "from tensorflow.keras.preprocessing import image\n",
        "test_image = image.load_img('/content/drive/MyDrive/X-ray and CT scan ( binary classification )/TESTING/non-covid/NORMAL2-IM-0007-0001.jpeg', target_size = (64,64))\n",
        "test_image = image.img_to_array(test_image)\n",
        "test_image=test_image/255\n",
        "test_image = np.expand_dims(test_image, axis = 0)\n",
        "result = model.predict(test_image)\n",
        "result"
      ],
      "execution_count": null,
      "outputs": [
        {
          "output_type": "execute_result",
          "data": {
            "text/plain": [
              "array([[5.1575322e-03, 1.3459766e-01, 7.4950856e-01, 3.6098141e-02,\n",
              "        7.2986640e-02, 5.2756164e-04, 1.1237895e-03]], dtype=float32)"
            ]
          },
          "metadata": {
            "tags": []
          },
          "execution_count": 0
        }
      ]
    },
    {
      "cell_type": "code",
      "metadata": {
        "colab": {
          "background_save": true
        },
        "id": "64OeHRqi961L",
        "outputId": "cfe206a2-b388-4bdb-e338-bc4c560f27eb"
      },
      "source": [
        "from tensorflow.keras.models import load_model\n",
        "model.save('better_cnn_model.model')"
      ],
      "execution_count": null,
      "outputs": [
        {
          "output_type": "stream",
          "text": [
            "INFO:tensorflow:Assets written to: better_cnn_model.model/assets\n"
          ],
          "name": "stdout"
        }
      ]
    },
    {
      "cell_type": "code",
      "metadata": {
        "colab": {
          "background_save": true
        },
        "id": "M4ejF2QR_muL"
      },
      "source": [
        "from tensorflow.keras.models import load_model\n",
        "model.save('better_cnn_model.h5')"
      ],
      "execution_count": null,
      "outputs": []
    },
    {
      "cell_type": "code",
      "metadata": {
        "id": "i3W4OX6UeeIm",
        "colab": {
          "base_uri": "https://localhost:8080/"
        },
        "outputId": "44387f39-fc1c-46d0-dcce-51a4fa1e0218"
      },
      "source": [
        "!/usr/local/cuda/bin/nvcc --version\n",
        "!nvidia-smi\n",
        "!nvidia-smi -L"
      ],
      "execution_count": null,
      "outputs": [
        {
          "output_type": "stream",
          "text": [
            "nvcc: NVIDIA (R) Cuda compiler driver\n",
            "Copyright (c) 2005-2019 NVIDIA Corporation\n",
            "Built on Sun_Jul_28_19:07:16_PDT_2019\n",
            "Cuda compilation tools, release 10.1, V10.1.243\n",
            "Thu Feb 18 09:30:55 2021       \n",
            "+-----------------------------------------------------------------------------+\n",
            "| NVIDIA-SMI 460.39       Driver Version: 460.32.03    CUDA Version: 11.2     |\n",
            "|-------------------------------+----------------------+----------------------+\n",
            "| GPU  Name        Persistence-M| Bus-Id        Disp.A | Volatile Uncorr. ECC |\n",
            "| Fan  Temp  Perf  Pwr:Usage/Cap|         Memory-Usage | GPU-Util  Compute M. |\n",
            "|                               |                      |               MIG M. |\n",
            "|===============================+======================+======================|\n",
            "|   0  Tesla T4            Off  | 00000000:00:04.0 Off |                    0 |\n",
            "| N/A   49C    P8    10W /  70W |      0MiB / 15109MiB |      0%      Default |\n",
            "|                               |                      |                  N/A |\n",
            "+-------------------------------+----------------------+----------------------+\n",
            "                                                                               \n",
            "+-----------------------------------------------------------------------------+\n",
            "| Processes:                                                                  |\n",
            "|  GPU   GI   CI        PID   Type   Process name                  GPU Memory |\n",
            "|        ID   ID                                                   Usage      |\n",
            "|=============================================================================|\n",
            "|  No running processes found                                                 |\n",
            "+-----------------------------------------------------------------------------+\n",
            "GPU 0: Tesla T4 (UUID: GPU-78fcb653-ed67-822c-1198-ce1c74be42bf)\n"
          ],
          "name": "stdout"
        }
      ]
    }
  ]
}