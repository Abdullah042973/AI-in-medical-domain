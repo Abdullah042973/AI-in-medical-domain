{
  "nbformat": 4,
  "nbformat_minor": 0,
  "metadata": {
    "colab": {
      "name": "better_cnn_update.ipynb",
      "provenance": [],
      "collapsed_sections": [],
      "mount_file_id": "1zuWtx-sr2onmTDll5gNKF49EMK-S6lhm",
      "authorship_tag": "ABX9TyNl5LH21tYMx0F7dlqe/MGC",
      "include_colab_link": true
    },
    "kernelspec": {
      "name": "python3",
      "display_name": "Python 3"
    },
    "accelerator": "GPU"
  },
  "cells": [
    {
      "cell_type": "markdown",
      "metadata": {
        "id": "view-in-github",
        "colab_type": "text"
      },
      "source": [
        "<a href=\"https://colab.research.google.com/github/Abdullah042973/AI-in-medical-domain/blob/main/better_cnn_update.ipynb\" target=\"_parent\"><img src=\"https://colab.research.google.com/assets/colab-badge.svg\" alt=\"Open In Colab\"/></a>"
      ]
    },
    {
      "cell_type": "code",
      "metadata": {
        "id": "8xJWPDldPSk9"
      },
      "source": [
        "from tensorflow.compat.v1 import ConfigProto\n",
        "from tensorflow.compat.v1 import InteractiveSession\n",
        " \n",
        "config = ConfigProto()\n",
        "config.gpu_options.per_process_gpu_memory_fraction = 1\n",
        "config.gpu_options.allow_growth = True\n",
        "session = InteractiveSession(config=config)\n",
        " \n",
        " \n",
        "import tensorflow as tf\n",
        "from tensorflow.keras.preprocessing.image import ImageDataGenerator\n",
        "#data augmentation\n",
        "train_datagen = ImageDataGenerator(rescale = 1./255,shear_range = 0.2,zoom_range = 0.2,horizontal_flip = True)"
      ],
      "execution_count": null,
      "outputs": []
    },
    {
      "cell_type": "code",
      "metadata": {
        "colab": {
          "base_uri": "https://localhost:8080/"
        },
        "id": "zC7cdwOHPaPO",
        "outputId": "f1731107-15e2-4a4b-fd0b-2d788d1d3ae4"
      },
      "source": [
        "training_set = train_datagen.flow_from_directory('/content/drive/MyDrive/covid xray and ct scan/train',\n",
        "                                                 target_size = (64, 64),\n",
        "                                                 batch_size = 32,\n",
        "                                                 class_mode = 'categorical')"
      ],
      "execution_count": null,
      "outputs": [
        {
          "output_type": "stream",
          "text": [
            "Found 6310 images belonging to 7 classes.\n"
          ],
          "name": "stdout"
        }
      ]
    },
    {
      "cell_type": "code",
      "metadata": {
        "colab": {
          "base_uri": "https://localhost:8080/"
        },
        "id": "qWLX28sBPwCs",
        "outputId": "47f649c2-a9d4-405b-b7db-d5618a78c48e"
      },
      "source": [
        "# Preprocessing the Test set\n",
        "test_datagen = ImageDataGenerator(rescale = 1./255)\n",
        "test_set = test_datagen.flow_from_directory('/content/drive/MyDrive/covid xray and ct scan/test',\n",
        "                                            target_size = (64, 64),\n",
        "                                            batch_size = 32,\n",
        "                                            class_mode = 'categorical')"
      ],
      "execution_count": null,
      "outputs": [
        {
          "output_type": "stream",
          "text": [
            "Found 975 images belonging to 7 classes.\n"
          ],
          "name": "stdout"
        }
      ]
    },
    {
      "cell_type": "code",
      "metadata": {
        "id": "ok632BPdPxfZ"
      },
      "source": [
        "from tensorflow.keras.layers import Conv2D\n",
        "from tensorflow.keras.layers import Dense\n",
        "from tensorflow.keras.regularizers import l2"
      ],
      "execution_count": null,
      "outputs": []
    },
    {
      "cell_type": "code",
      "metadata": {
        "colab": {
          "base_uri": "https://localhost:8080/"
        },
        "id": "uQm6_jFpPz5t",
        "outputId": "a79c20b4-e631-42e2-f2b7-c84cf4bc4bfe"
      },
      "source": [
        "def createmodel():\n",
        "  # Part 2 - Building the CNN\n",
        "  # Initialising the CNN\n",
        "  cnn = tf.keras.models.Sequential()\n",
        "  # Step 1 - Convolution\n",
        "  cnn.add(tf.keras.layers.Conv2D(filters=32,padding=\"same\",kernel_size=3, activation='relu', strides=2, input_shape=[64, 64, 3]))\n",
        "  # Step 2 - Pooling\n",
        "  cnn.add(tf.keras.layers.MaxPool2D(pool_size=2, strides=2))\n",
        "  # Adding a second convolutional layer\n",
        "  cnn.add(tf.keras.layers.Conv2D(filters=32,padding='same',kernel_size=3, activation='relu'))\n",
        "  cnn.add(tf.keras.layers.MaxPool2D(pool_size=2, strides=2))\n",
        "  # Step 3 - Flattening\n",
        "  cnn.add(tf.keras.layers.Flatten())\n",
        "  # Step 4 - Full Connection\n",
        "  cnn.add(tf.keras.layers.Dense(units=128, activation='relu'))\n",
        "  # Step 5 - Output Layer\n",
        "  #cnn.add(tf.keras.layers.Dense(units=1, activation='sigmoid'))\n",
        "  cnn.add(Dense(7, kernel_regularizer=tf.keras.regularizers.l2(0.001),activation='softmax'))\n",
        "  cnn.compile(optimizer = 'adam', loss = 'categorical_crossentropy', metrics = ['accuracy'])\n",
        "  return cnn\n",
        "\n",
        "model = createmodel()\n",
        "model.summary()"
      ],
      "execution_count": null,
      "outputs": [
        {
          "output_type": "stream",
          "text": [
            "Model: \"sequential\"\n",
            "_________________________________________________________________\n",
            "Layer (type)                 Output Shape              Param #   \n",
            "=================================================================\n",
            "conv2d (Conv2D)              (None, 32, 32, 32)        896       \n",
            "_________________________________________________________________\n",
            "max_pooling2d (MaxPooling2D) (None, 16, 16, 32)        0         \n",
            "_________________________________________________________________\n",
            "conv2d_1 (Conv2D)            (None, 16, 16, 32)        9248      \n",
            "_________________________________________________________________\n",
            "max_pooling2d_1 (MaxPooling2 (None, 8, 8, 32)          0         \n",
            "_________________________________________________________________\n",
            "flatten (Flatten)            (None, 2048)              0         \n",
            "_________________________________________________________________\n",
            "dense (Dense)                (None, 128)               262272    \n",
            "_________________________________________________________________\n",
            "dense_1 (Dense)              (None, 7)                 903       \n",
            "=================================================================\n",
            "Total params: 273,319\n",
            "Trainable params: 273,319\n",
            "Non-trainable params: 0\n",
            "_________________________________________________________________\n"
          ],
          "name": "stdout"
        }
      ]
    },
    {
      "cell_type": "code",
      "metadata": {
        "colab": {
          "base_uri": "https://localhost:8080/"
        },
        "id": "MsdGRAbxP7tw",
        "outputId": "36f5aba5-d32f-4143-e191-58372be29bdb"
      },
      "source": [
        "model = createmodel()\n",
        "r=model.fit(x = training_set, validation_data = test_set, epochs = 50)\n",
        "\n"
      ],
      "execution_count": null,
      "outputs": [
        {
          "output_type": "stream",
          "text": [
            "Epoch 1/50\n",
            "198/198 [==============================] - 3902s 20s/step - loss: 1.1316 - accuracy: 0.5310 - val_loss: 0.7101 - val_accuracy: 0.7087\n",
            "Epoch 2/50\n",
            "198/198 [==============================] - 122s 615ms/step - loss: 0.7162 - accuracy: 0.7158 - val_loss: 0.5654 - val_accuracy: 0.7856\n",
            "Epoch 3/50\n",
            "198/198 [==============================] - 126s 635ms/step - loss: 0.6315 - accuracy: 0.7445 - val_loss: 0.5046 - val_accuracy: 0.8390\n",
            "Epoch 4/50\n",
            "198/198 [==============================] - 125s 630ms/step - loss: 0.5853 - accuracy: 0.7706 - val_loss: 0.5470 - val_accuracy: 0.8246\n",
            "Epoch 5/50\n",
            "198/198 [==============================] - 123s 624ms/step - loss: 0.5582 - accuracy: 0.7769 - val_loss: 0.5046 - val_accuracy: 0.8482\n",
            "Epoch 6/50\n",
            "198/198 [==============================] - 124s 625ms/step - loss: 0.5284 - accuracy: 0.7878 - val_loss: 0.4962 - val_accuracy: 0.8267\n",
            "Epoch 7/50\n",
            "198/198 [==============================] - 122s 615ms/step - loss: 0.5355 - accuracy: 0.7910 - val_loss: 0.5097 - val_accuracy: 0.8441\n",
            "Epoch 8/50\n",
            "198/198 [==============================] - 122s 618ms/step - loss: 0.5143 - accuracy: 0.7917 - val_loss: 0.4562 - val_accuracy: 0.8431\n",
            "Epoch 9/50\n",
            "198/198 [==============================] - 122s 617ms/step - loss: 0.4922 - accuracy: 0.8047 - val_loss: 0.4426 - val_accuracy: 0.8718\n",
            "Epoch 10/50\n",
            "198/198 [==============================] - 124s 625ms/step - loss: 0.4914 - accuracy: 0.8075 - val_loss: 0.4963 - val_accuracy: 0.8410\n",
            "Epoch 11/50\n",
            "198/198 [==============================] - 124s 625ms/step - loss: 0.4910 - accuracy: 0.8052 - val_loss: 0.4297 - val_accuracy: 0.8728\n",
            "Epoch 12/50\n",
            "198/198 [==============================] - 123s 622ms/step - loss: 0.5004 - accuracy: 0.7996 - val_loss: 0.5003 - val_accuracy: 0.8379\n",
            "Epoch 13/50\n",
            "198/198 [==============================] - 126s 635ms/step - loss: 0.4754 - accuracy: 0.8052 - val_loss: 0.5101 - val_accuracy: 0.8626\n",
            "Epoch 14/50\n",
            "198/198 [==============================] - 126s 636ms/step - loss: 0.4720 - accuracy: 0.8116 - val_loss: 0.4318 - val_accuracy: 0.8749\n",
            "Epoch 15/50\n",
            "198/198 [==============================] - 124s 626ms/step - loss: 0.4534 - accuracy: 0.8222 - val_loss: 0.3863 - val_accuracy: 0.8769\n",
            "Epoch 16/50\n",
            "198/198 [==============================] - 125s 631ms/step - loss: 0.4389 - accuracy: 0.8235 - val_loss: 0.4603 - val_accuracy: 0.8626\n",
            "Epoch 17/50\n",
            "198/198 [==============================] - 124s 629ms/step - loss: 0.4440 - accuracy: 0.8257 - val_loss: 0.4448 - val_accuracy: 0.8708\n",
            "Epoch 18/50\n",
            "198/198 [==============================] - 125s 632ms/step - loss: 0.4456 - accuracy: 0.8193 - val_loss: 0.4649 - val_accuracy: 0.8626\n",
            "Epoch 19/50\n",
            "198/198 [==============================] - 127s 642ms/step - loss: 0.4482 - accuracy: 0.8191 - val_loss: 0.3827 - val_accuracy: 0.8882\n",
            "Epoch 20/50\n",
            "198/198 [==============================] - 125s 632ms/step - loss: 0.4280 - accuracy: 0.8258 - val_loss: 0.3907 - val_accuracy: 0.8913\n",
            "Epoch 21/50\n",
            "198/198 [==============================] - 126s 638ms/step - loss: 0.4454 - accuracy: 0.8160 - val_loss: 0.5512 - val_accuracy: 0.8410\n",
            "Epoch 22/50\n",
            "198/198 [==============================] - 124s 627ms/step - loss: 0.4502 - accuracy: 0.8201 - val_loss: 0.3721 - val_accuracy: 0.8821\n",
            "Epoch 23/50\n",
            "198/198 [==============================] - 124s 628ms/step - loss: 0.4225 - accuracy: 0.8347 - val_loss: 0.4458 - val_accuracy: 0.8687\n",
            "Epoch 24/50\n",
            "198/198 [==============================] - 125s 633ms/step - loss: 0.4100 - accuracy: 0.8392 - val_loss: 0.3906 - val_accuracy: 0.8851\n",
            "Epoch 25/50\n",
            "198/198 [==============================] - 125s 630ms/step - loss: 0.4186 - accuracy: 0.8281 - val_loss: 0.3919 - val_accuracy: 0.8851\n",
            "Epoch 26/50\n",
            "198/198 [==============================] - 127s 640ms/step - loss: 0.4143 - accuracy: 0.8288 - val_loss: 0.4436 - val_accuracy: 0.8533\n",
            "Epoch 27/50\n",
            "198/198 [==============================] - 125s 630ms/step - loss: 0.4193 - accuracy: 0.8272 - val_loss: 0.3984 - val_accuracy: 0.8790\n",
            "Epoch 28/50\n",
            "198/198 [==============================] - 125s 633ms/step - loss: 0.4046 - accuracy: 0.8283 - val_loss: 0.3850 - val_accuracy: 0.8903\n",
            "Epoch 29/50\n",
            "198/198 [==============================] - 126s 638ms/step - loss: 0.4050 - accuracy: 0.8360 - val_loss: 0.4163 - val_accuracy: 0.8728\n",
            "Epoch 30/50\n",
            "198/198 [==============================] - 127s 644ms/step - loss: 0.4044 - accuracy: 0.8335 - val_loss: 0.4123 - val_accuracy: 0.8841\n",
            "Epoch 31/50\n",
            "198/198 [==============================] - 129s 649ms/step - loss: 0.3987 - accuracy: 0.8317 - val_loss: 0.3656 - val_accuracy: 0.8903\n",
            "Epoch 32/50\n",
            "198/198 [==============================] - 126s 639ms/step - loss: 0.3862 - accuracy: 0.8456 - val_loss: 0.4555 - val_accuracy: 0.8831\n",
            "Epoch 33/50\n",
            "198/198 [==============================] - 126s 636ms/step - loss: 0.3792 - accuracy: 0.8481 - val_loss: 0.3707 - val_accuracy: 0.9046\n",
            "Epoch 34/50\n",
            "198/198 [==============================] - 124s 624ms/step - loss: 0.3902 - accuracy: 0.8376 - val_loss: 0.3804 - val_accuracy: 0.8892\n",
            "Epoch 35/50\n",
            "198/198 [==============================] - 124s 624ms/step - loss: 0.3655 - accuracy: 0.8534 - val_loss: 0.4214 - val_accuracy: 0.8821\n",
            "Epoch 36/50\n",
            "198/198 [==============================] - 125s 630ms/step - loss: 0.3745 - accuracy: 0.8402 - val_loss: 0.3981 - val_accuracy: 0.9005\n",
            "Epoch 37/50\n",
            "198/198 [==============================] - 122s 616ms/step - loss: 0.3658 - accuracy: 0.8488 - val_loss: 0.3194 - val_accuracy: 0.9138\n",
            "Epoch 38/50\n",
            "198/198 [==============================] - 124s 628ms/step - loss: 0.3930 - accuracy: 0.8323 - val_loss: 0.3801 - val_accuracy: 0.9036\n",
            "Epoch 39/50\n",
            "198/198 [==============================] - 124s 627ms/step - loss: 0.3606 - accuracy: 0.8517 - val_loss: 0.3631 - val_accuracy: 0.8974\n",
            "Epoch 40/50\n",
            "198/198 [==============================] - 124s 630ms/step - loss: 0.3767 - accuracy: 0.8474 - val_loss: 0.3856 - val_accuracy: 0.8933\n",
            "Epoch 41/50\n",
            "198/198 [==============================] - 125s 632ms/step - loss: 0.3725 - accuracy: 0.8406 - val_loss: 0.3437 - val_accuracy: 0.9067\n",
            "Epoch 42/50\n",
            "198/198 [==============================] - 123s 620ms/step - loss: 0.3596 - accuracy: 0.8541 - val_loss: 0.3548 - val_accuracy: 0.9005\n",
            "Epoch 43/50\n",
            "198/198 [==============================] - 124s 628ms/step - loss: 0.3628 - accuracy: 0.8452 - val_loss: 0.3317 - val_accuracy: 0.9159\n",
            "Epoch 44/50\n",
            "198/198 [==============================] - 123s 624ms/step - loss: 0.3586 - accuracy: 0.8547 - val_loss: 0.3340 - val_accuracy: 0.9067\n",
            "Epoch 45/50\n",
            "198/198 [==============================] - 125s 628ms/step - loss: 0.3460 - accuracy: 0.8571 - val_loss: 0.3709 - val_accuracy: 0.8995\n",
            "Epoch 46/50\n",
            "198/198 [==============================] - 126s 637ms/step - loss: 0.3563 - accuracy: 0.8472 - val_loss: 0.3777 - val_accuracy: 0.8974\n",
            "Epoch 47/50\n",
            "198/198 [==============================] - 124s 626ms/step - loss: 0.3748 - accuracy: 0.8334 - val_loss: 0.3737 - val_accuracy: 0.9108\n",
            "Epoch 48/50\n",
            "198/198 [==============================] - 124s 624ms/step - loss: 0.3552 - accuracy: 0.8558 - val_loss: 0.4131 - val_accuracy: 0.8851\n",
            "Epoch 49/50\n",
            "198/198 [==============================] - 123s 623ms/step - loss: 0.3565 - accuracy: 0.8588 - val_loss: 0.3824 - val_accuracy: 0.8964\n",
            "Epoch 50/50\n",
            "198/198 [==============================] - 123s 620ms/step - loss: 0.3460 - accuracy: 0.8550 - val_loss: 0.3180 - val_accuracy: 0.9077\n"
          ],
          "name": "stdout"
        }
      ]
    },
    {
      "cell_type": "code",
      "metadata": {
        "id": "4BzIPgi8tzgo"
      },
      "source": [
        "from google.colab import drive\n",
        "drive.mount('/content/drive')"
      ],
      "execution_count": null,
      "outputs": []
    },
    {
      "cell_type": "code",
      "metadata": {
        "colab": {
          "base_uri": "https://localhost:8080/",
          "height": 530
        },
        "id": "G9_2g6zorjQV",
        "outputId": "5129709b-0bca-4767-dc8e-4b40689f69fa"
      },
      "source": [
        "# plot the loss\n",
        "import matplotlib.pyplot as plt\n",
        "plt.plot(r.history['loss'], label='train loss')\n",
        "plt.plot(r.history['val_loss'], label='val loss')\n",
        "plt.legend()\n",
        "plt.show()\n",
        "plt.savefig('LossVal_loss')\n",
        "\n",
        "# plot the accuracy\n",
        "plt.plot(r.history['accuracy'], label='train acc')\n",
        "plt.plot(r.history['val_accuracy'], label='val acc')\n",
        "plt.legend()\n",
        "plt.show()\n",
        "plt.savefig('AccVal_acc')"
      ],
      "execution_count": null,
      "outputs": [
        {
          "output_type": "display_data",
          "data": {
            "image/png": "[encoded data removed]",
            "text/plain": [
              "<Figure size 432x288 with 1 Axes>"
            ]
          },
          "metadata": {
            "tags": [],
            "needs_background": "light"
          }
        },
        {
          "output_type": "display_data",
          "data": {
            "image/png": "[encoded data removed]",
            "text/plain": [
              "<Figure size 432x288 with 1 Axes>"
            ]
          },
          "metadata": {
            "tags": [],
            "needs_background": "light"
          }
        },
        {
          "output_type": "display_data",
          "data": {
            "text/plain": [
              "<Figure size 432x288 with 0 Axes>"
            ]
          },
          "metadata": {
            "tags": []
          }
        }
      ]
    },
    {
      "cell_type": "code",
      "metadata": {
        "colab": {
          "base_uri": "https://localhost:8080/"
        },
        "id": "GWVc7I7dr70O",
        "outputId": "83034049-9792-4ef0-d594-bfc6e35e940c"
      },
      "source": [
        "import numpy as np\n",
        "from tensorflow.keras.preprocessing import image\n",
        "test_image = image.load_img('/content/drive/MyDrive/covid xray and ct scan/test/NORMAL/NORMAL2-IM-0007-0001.jpeg', target_size = (64,64))\n",
        "test_image = image.img_to_array(test_image)\n",
        "test_image=test_image/255\n",
        "test_image = np.expand_dims(test_image, axis = 0)\n",
        "result = model.predict(test_image)\n",
        "result[0]\n",
        "for i in result[0]:\n",
        "  result = i*100\n",
        "  print(float(result))"
      ],
      "execution_count": null,
      "outputs": [
        {
          "output_type": "stream",
          "text": [
            "0.010326167830498889\n",
            "0.17498775850981474\n",
            "98.82501363754272\n",
            "0.12868932681158185\n",
            "0.838035810738802\n",
            "0.018947827629745007\n",
            "0.004006523886346258\n"
          ],
          "name": "stdout"
        }
      ]
    },
    {
      "cell_type": "code",
      "metadata": {
        "colab": {
          "base_uri": "https://localhost:8080/"
        },
        "id": "2e9Swkhy1PO4",
        "outputId": "b26a7d1e-658b-40d4-885b-61533c20c6c8"
      },
      "source": [
        "import numpy as np\n",
        "from tensorflow.keras.preprocessing import image\n",
        "test_image = image.load_img('/content/drive/MyDrive/covid xray and ct scan/train/COVID 19/COVID-19 (116).png', target_size = (64,64))\n",
        "test_image = image.img_to_array(test_image)\n",
        "test_image=test_image/255\n",
        "test_image = np.expand_dims(test_image, axis = 0)\n",
        "result = model.predict(test_image)\n",
        "result[0]\n",
        "for i in result[0]:\n",
        "  result = i*100\n",
        "  print(float(result))"
      ],
      "execution_count": null,
      "outputs": [
        {
          "output_type": "stream",
          "text": [
            "0.01348977821180597\n",
            "99.95274543762207\n",
            "2.0498575281635567e-05\n",
            "9.391628452704026e-06\n",
            "3.038924489828787e-06\n",
            "0.03265284758526832\n",
            "0.00108745189209003\n"
          ],
          "name": "stdout"
        }
      ]
    },
    {
      "cell_type": "code",
      "metadata": {
        "colab": {
          "base_uri": "https://localhost:8080/"
        },
        "id": "JMovbc5aEWLK",
        "outputId": "23125c7c-9396-4f4d-9ae9-aefcae3bfa4b"
      },
      "source": [
        "import numpy as np\n",
        "from tensorflow.keras.preprocessing import image\n",
        "test_image = image.load_img('/content/drive/MyDrive/X-ray and CT scan ( binary classification )/TESTING/non-covid/IM-0131-0001.jpeg', target_size = (64,64))\n",
        "test_image = image.img_to_array(test_image)\n",
        "test_image=test_image/255\n",
        "test_image = np.expand_dims(test_image, axis = 0)\n",
        "result = model.predict(test_image)\n",
        "result[0]\n",
        "for i in result[0]:\n",
        "  result = i*100\n",
        "  print(float(result))"
      ],
      "execution_count": null,
      "outputs": [
        {
          "output_type": "stream",
          "text": [
            "3.980309060125364e-06\n",
            "3.311293710339669e-05\n",
            "99.29531216621399\n",
            "0.37310903426259756\n",
            "0.33153926488012075\n",
            "1.8147663372047873e-07\n",
            "2.9424851888393277e-06\n"
          ],
          "name": "stdout"
        }
      ]
    },
    {
      "cell_type": "code",
      "metadata": {
        "colab": {
          "base_uri": "https://localhost:8080/"
        },
        "id": "6M9qpU8NXq5-",
        "outputId": "0fe63357-157a-447a-880e-ed48c46be57f"
      },
      "source": [
        "final_accuracy = r.history[\"val_accuracy\"][-15:]\n",
        "print(\"FINAL ACCURACY MEAN-15: \", np.mean(final_accuracy))"
      ],
      "execution_count": null,
      "outputs": [
        {
          "output_type": "stream",
          "text": [
            "FINAL ACCURACY MEAN-15:  0.9023589730262757\n"
          ],
          "name": "stdout"
        }
      ]
    },
    {
      "cell_type": "code",
      "metadata": {
        "id": "ZOqUA1t61Srv"
      },
      "source": [
        "import tensorflow as tf\n",
        " \n",
        "from keras.models import load_model\n",
        " \n",
        "model.save('better_cnn_model_50_epoch.h5')"
      ],
      "execution_count": null,
      "outputs": []
    }
  ]
}