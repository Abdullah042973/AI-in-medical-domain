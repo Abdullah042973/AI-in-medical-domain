{
  "nbformat": 4,
  "nbformat_minor": 0,
  "metadata": {
    "colab": {
      "name": "HYBRID CNN WITH SVM.ipynb",
      "provenance": [],
      "collapsed_sections": [],
      "mount_file_id": "1TEV-6O6YrzI-xhsSzS-osxhwwT39yBb_",
      "authorship_tag": "ABX9TyMA9mGUmINaWNM8F7LYm24O",
      "include_colab_link": true
    },
    "kernelspec": {
      "name": "python3",
      "display_name": "Python 3"
    },
    "accelerator": "GPU"
  },
  "cells": [
    {
      "cell_type": "markdown",
      "metadata": {
        "id": "view-in-github",
        "colab_type": "text"
      },
      "source": [
        "<a href=\"https://colab.research.google.com/github/Abdullah042973/AI-in-medical-domain/blob/main/HYBRID_CNN_WITH_SVM%20(multiclass%20clasification).ipynb\" target=\"_parent\"><img src=\"https://colab.research.google.com/assets/colab-badge.svg\" alt=\"Open In Colab\"/></a>"
      ]
    },
    {
      "cell_type": "code",
      "metadata": {
        "id": "5_e4ten7NOPw"
      },
      "source": [
        "from tensorflow.compat.v1 import ConfigProto\n",
        "from tensorflow.compat.v1 import InteractiveSession\n",
        " \n",
        "config = ConfigProto()\n",
        "config.gpu_options.per_process_gpu_memory_fraction = 1\n",
        "config.gpu_options.allow_growth = True\n",
        "session = InteractiveSession(config=config)"
      ],
      "execution_count": null,
      "outputs": []
    },
    {
      "cell_type": "code",
      "metadata": {
        "colab": {
          "base_uri": "https://localhost:8080/",
          "height": 36
        },
        "id": "_TFUnCCSNphm",
        "outputId": "133e7764-1505-4bfa-e273-2e373e88270b"
      },
      "source": [
        "import tensorflow as tf\n",
        "from tensorflow.keras.preprocessing.image import ImageDataGenerator\n",
        "tf.__version__"
      ],
      "execution_count": null,
      "outputs": [
        {
          "output_type": "execute_result",
          "data": {
            "application/vnd.google.colaboratory.intrinsic+json": {
              "type": "string"
            },
            "text/plain": [
              "'2.4.1'"
            ]
          },
          "metadata": {
            "tags": []
          },
          "execution_count": 2
        }
      ]
    },
    {
      "cell_type": "code",
      "metadata": {
        "id": "bFLzLL46NzOd"
      },
      "source": [
        "#data augmentation\n",
        "train_datagen = ImageDataGenerator(rescale = 1./255,shear_range = 0.2,zoom_range = 0.2,horizontal_flip = True)"
      ],
      "execution_count": null,
      "outputs": []
    },
    {
      "cell_type": "code",
      "metadata": {
        "colab": {
          "base_uri": "https://localhost:8080/"
        },
        "id": "v-ReApcSODQU",
        "outputId": "18999ae4-6e7e-41b4-8bd4-6e814120d853"
      },
      "source": [
        "training_set = train_datagen.flow_from_directory('/content/drive/MyDrive/covid xray and ct scan/train',\n",
        "                                                 target_size = (64, 64),\n",
        "                                                 batch_size = 32,\n",
        "                                                 class_mode = 'categorical')"
      ],
      "execution_count": null,
      "outputs": [
        {
          "output_type": "stream",
          "text": [
            "Found 6310 images belonging to 7 classes.\n"
          ],
          "name": "stdout"
        }
      ]
    },
    {
      "cell_type": "code",
      "metadata": {
        "colab": {
          "base_uri": "https://localhost:8080/"
        },
        "id": "8Lt_FSunP9AH",
        "outputId": "2afeb4d9-4231-4e1f-a1bd-4f15bbdcd5cd"
      },
      "source": [
        "# Preprocessing the Test set\n",
        "test_datagen = ImageDataGenerator(rescale = 1./255)\n",
        "test_set = test_datagen.flow_from_directory('/content/drive/MyDrive/covid xray and ct scan/test',\n",
        "                                            target_size = (64, 64),\n",
        "                                            batch_size = 32,\n",
        "                                            class_mode = 'categorical')"
      ],
      "execution_count": null,
      "outputs": [
        {
          "output_type": "stream",
          "text": [
            "Found 975 images belonging to 7 classes.\n"
          ],
          "name": "stdout"
        }
      ]
    },
    {
      "cell_type": "code",
      "metadata": {
        "id": "Fzp5fpAkQSBW"
      },
      "source": [
        "from tensorflow.keras.layers import Conv2D\n",
        "from tensorflow.keras.layers import Dense\n",
        "from tensorflow.keras.regularizers import l2"
      ],
      "execution_count": null,
      "outputs": []
    },
    {
      "cell_type": "code",
      "metadata": {
        "id": "pUqMmMlGYxNj",
        "colab": {
          "base_uri": "https://localhost:8080/"
        },
        "outputId": "ea34ae02-59db-412b-9eb9-f86ce6ba01cf"
      },
      "source": [
        "def createmodel():\n",
        "  # Part 2 - Building the CNN\n",
        "  # Initialising the CNN\n",
        "  cnn = tf.keras.models.Sequential()\n",
        "  # Step 1 - Convolution\n",
        "  cnn.add(tf.keras.layers.Conv2D(filters=32,padding=\"same\",kernel_size=3, activation='relu', strides=2, input_shape=[64, 64, 3]))\n",
        "  # Step 2 - Pooling\n",
        "  cnn.add(tf.keras.layers.MaxPool2D(pool_size=2, strides=2))\n",
        "  # Adding a second convolutional layer\n",
        "  cnn.add(tf.keras.layers.Conv2D(filters=32,padding='same',kernel_size=3, activation='relu'))\n",
        "  cnn.add(tf.keras.layers.MaxPool2D(pool_size=2, strides=2))\n",
        "  # Step 3 - Flattening\n",
        "  cnn.add(tf.keras.layers.Flatten())\n",
        "  # Step 4 - Full Connection\n",
        "  cnn.add(tf.keras.layers.Dense(units=128, activation='relu'))\n",
        "  # Step 5 - Output Layer\n",
        "  #cnn.add(tf.keras.layers.Dense(units=1, activation='sigmoid'))\n",
        "  cnn.add(Dense(7, kernel_regularizer=tf.keras.regularizers.l2(0.001),activation='softmax'))\n",
        "  cnn.compile(optimizer = 'adam', loss = 'squared_hinge', metrics = ['accuracy'])\n",
        "  return cnn\n",
        "\n",
        "model = createmodel()\n",
        "model.summary()"
      ],
      "execution_count": null,
      "outputs": [
        {
          "output_type": "stream",
          "text": [
            "Model: \"sequential\"\n",
            "_________________________________________________________________\n",
            "Layer (type)                 Output Shape              Param #   \n",
            "=================================================================\n",
            "conv2d (Conv2D)              (None, 32, 32, 32)        896       \n",
            "_________________________________________________________________\n",
            "max_pooling2d (MaxPooling2D) (None, 16, 16, 32)        0         \n",
            "_________________________________________________________________\n",
            "conv2d_1 (Conv2D)            (None, 16, 16, 32)        9248      \n",
            "_________________________________________________________________\n",
            "max_pooling2d_1 (MaxPooling2 (None, 8, 8, 32)          0         \n",
            "_________________________________________________________________\n",
            "flatten (Flatten)            (None, 2048)              0         \n",
            "_________________________________________________________________\n",
            "dense (Dense)                (None, 128)               262272    \n",
            "_________________________________________________________________\n",
            "dense_1 (Dense)              (None, 7)                 903       \n",
            "=================================================================\n",
            "Total params: 273,319\n",
            "Trainable params: 273,319\n",
            "Non-trainable params: 0\n",
            "_________________________________________________________________\n"
          ],
          "name": "stdout"
        }
      ]
    },
    {
      "cell_type": "code",
      "metadata": {
        "id": "OMgENcZmZHfw"
      },
      "source": [
        ""
      ],
      "execution_count": null,
      "outputs": []
    },
    {
      "cell_type": "code",
      "metadata": {
        "colab": {
          "base_uri": "https://localhost:8080/"
        },
        "id": "E85KOzSvZXrl",
        "outputId": "9834f3a8-72f0-462f-81e4-e82a1b5a0f94"
      },
      "source": [
        "checkpoint_path = '/content/drive/model.ckpt'\n",
        "callback = tensorflow.keras.callbacks.ModelCheckpoint(checkpoint_path,save_weights_only=True,verbose=1)\n",
        "\n",
        "model = createmodel()\n",
        "\n",
        "model.fit(x = training_set, validation_data = test_set, epochs = 20)\n"
      ],
      "execution_count": null,
      "outputs": [
        {
          "output_type": "stream",
          "text": [
            "Epoch 1/20\n",
            "198/198 [==============================] - 109s 549ms/step - loss: 1.1419 - accuracy: 0.4685 - val_loss: 0.9856 - val_accuracy: 0.7672\n",
            "Epoch 2/20\n",
            "198/198 [==============================] - 108s 547ms/step - loss: 1.0345 - accuracy: 0.6837 - val_loss: 0.9733 - val_accuracy: 0.7938\n",
            "Epoch 3/20\n",
            "198/198 [==============================] - 108s 547ms/step - loss: 1.0166 - accuracy: 0.7099 - val_loss: 0.9528 - val_accuracy: 0.8328\n",
            "Epoch 4/20\n",
            "198/198 [==============================] - 109s 549ms/step - loss: 0.9973 - accuracy: 0.7453 - val_loss: 0.9706 - val_accuracy: 0.7938\n",
            "Epoch 5/20\n",
            "198/198 [==============================] - 108s 548ms/step - loss: 0.9979 - accuracy: 0.7450 - val_loss: 0.9399 - val_accuracy: 0.8585\n",
            "Epoch 6/20\n",
            "198/198 [==============================] - 108s 545ms/step - loss: 0.9888 - accuracy: 0.7674 - val_loss: 0.9558 - val_accuracy: 0.8205\n",
            "Epoch 7/20\n",
            "198/198 [==============================] - 108s 547ms/step - loss: 0.9831 - accuracy: 0.7765 - val_loss: 0.9626 - val_accuracy: 0.8133\n",
            "Epoch 8/20\n",
            "198/198 [==============================] - 108s 546ms/step - loss: 0.9842 - accuracy: 0.7740 - val_loss: 0.9610 - val_accuracy: 0.8113\n",
            "Epoch 9/20\n",
            "198/198 [==============================] - 108s 546ms/step - loss: 0.9829 - accuracy: 0.7770 - val_loss: 0.9396 - val_accuracy: 0.8574\n",
            "Epoch 10/20\n",
            "198/198 [==============================] - 108s 546ms/step - loss: 0.9767 - accuracy: 0.7870 - val_loss: 0.9665 - val_accuracy: 0.8021\n",
            "Epoch 11/20\n",
            "198/198 [==============================] - 107s 542ms/step - loss: 0.9760 - accuracy: 0.7854 - val_loss: 0.9376 - val_accuracy: 0.8605\n",
            "Epoch 12/20\n",
            "198/198 [==============================] - 107s 541ms/step - loss: 0.9740 - accuracy: 0.7895 - val_loss: 0.9378 - val_accuracy: 0.8615\n",
            "Epoch 13/20\n",
            "198/198 [==============================] - 108s 547ms/step - loss: 0.9761 - accuracy: 0.7909 - val_loss: 0.9461 - val_accuracy: 0.8400\n",
            "Epoch 14/20\n",
            "198/198 [==============================] - 108s 546ms/step - loss: 0.9729 - accuracy: 0.7936 - val_loss: 0.9372 - val_accuracy: 0.8626\n",
            "Epoch 15/20\n",
            "198/198 [==============================] - 108s 544ms/step - loss: 0.9752 - accuracy: 0.7908 - val_loss: 0.9406 - val_accuracy: 0.8564\n",
            "Epoch 16/20\n",
            "198/198 [==============================] - 108s 546ms/step - loss: 0.9668 - accuracy: 0.8096 - val_loss: 0.9346 - val_accuracy: 0.8677\n",
            "Epoch 17/20\n",
            "198/198 [==============================] - 108s 544ms/step - loss: 0.9656 - accuracy: 0.8092 - val_loss: 0.9370 - val_accuracy: 0.8544\n",
            "Epoch 18/20\n",
            "198/198 [==============================] - 107s 543ms/step - loss: 0.9772 - accuracy: 0.7858 - val_loss: 0.9405 - val_accuracy: 0.8544\n",
            "Epoch 19/20\n",
            "198/198 [==============================] - 107s 543ms/step - loss: 0.9653 - accuracy: 0.8120 - val_loss: 0.9456 - val_accuracy: 0.8462\n",
            "Epoch 20/20\n",
            "198/198 [==============================] - 107s 541ms/step - loss: 0.9719 - accuracy: 0.7963 - val_loss: 0.9373 - val_accuracy: 0.8636\n"
          ],
          "name": "stdout"
        },
        {
          "output_type": "execute_result",
          "data": {
            "text/plain": [
              "<tensorflow.python.keras.callbacks.History at 0x7f4907903f98>"
            ]
          },
          "metadata": {
            "tags": []
          },
          "execution_count": 41
        }
      ]
    },
    {
      "cell_type": "code",
      "metadata": {
        "id": "90YkAm1Cddyg",
        "colab": {
          "base_uri": "https://localhost:8080/",
          "height": 532
        },
        "outputId": "1f65b63b-3b1a-4b1f-c813-9d189cc4e039"
      },
      "source": [
        "# plot the loss\n",
        "import matplotlib.pyplot as plt\n",
        "plt.plot(r.history['loss'], label='train loss')\n",
        "plt.plot(r.history['val_loss'], label='val loss')\n",
        "plt.legend()\n",
        "plt.show()\n",
        "plt.savefig('LossVal_loss')\n",
        "\n",
        "# plot the accuracy\n",
        "plt.plot(r.history['accuracy'], label='train acc')\n",
        "plt.plot(r.history['val_accuracy'], label='val acc')\n",
        "plt.legend()\n",
        "plt.show()\n",
        "plt.savefig('AccVal_acc')"
      ],
      "execution_count": null,
      "outputs": [
        {
          "output_type": "display_data",
          "data": {
            "image/png": "[encoded data removed]",
            "text/plain": [
              "<Figure size 432x288 with 1 Axes>"
            ]
          },
          "metadata": {
            "tags": [],
            "needs_background": "light"
          }
        },
        {
          "output_type": "display_data",
          "data": {
            "image/png": "[encoded data removed]",
            "text/plain": [
              "<Figure size 432x288 with 1 Axes>"
            ]
          },
          "metadata": {
            "tags": [],
            "needs_background": "light"
          }
        },
        {
          "output_type": "display_data",
          "data": {
            "text/plain": [
              "<Figure size 432x288 with 0 Axes>"
            ]
          },
          "metadata": {
            "tags": []
          }
        }
      ]
    },
    {
      "cell_type": "code",
      "metadata": {
        "id": "QkIzOpfH1kB6"
      },
      "source": [
        "import numpy as np\n",
        "from tensorflow.keras.preprocessing import image\n",
        "test_image = image.load_img('/content/drive/MyDrive/X-ray and CT scan ( binary classification )/TESTING/covid/COVID-19 (10).jpg', target_size = (64,64))\n",
        "test_image = image.img_to_array(test_image)\n",
        "test_image=test_image/255\n",
        "test_image = np.expand_dims(test_image, axis = 0)\n",
        "result = cnn.predict(test_image)"
      ],
      "execution_count": null,
      "outputs": []
    },
    {
      "cell_type": "code",
      "metadata": {
        "id": "E0i4pzdSVapX"
      },
      "source": [
        ""
      ],
      "execution_count": null,
      "outputs": []
    },
    {
      "cell_type": "code",
      "metadata": {
        "id": "IpUOFmn32TdE",
        "colab": {
          "base_uri": "https://localhost:8080/"
        },
        "outputId": "a0af15c1-15d8-4a2b-81dd-ffae0bfd0f5c"
      },
      "source": [
        "result"
      ],
      "execution_count": null,
      "outputs": [
        {
          "output_type": "execute_result",
          "data": {
            "text/plain": [
              "array([[5.5864531e-09, 9.9994171e-01, 2.4043298e-10, 5.8238926e-05,\n",
              "        3.6322012e-09, 5.7224350e-09, 5.6294303e-09]], dtype=float32)"
            ]
          },
          "metadata": {
            "tags": []
          },
          "execution_count": 46
        }
      ]
    },
    {
      "cell_type": "code",
      "metadata": {
        "id": "rq3ncFPH5PVd",
        "colab": {
          "base_uri": "https://localhost:8080/",
          "height": 427
        },
        "outputId": "a0608e5d-6ff7-4876-c7fb-2d1cae2a47fa"
      },
      "source": [
        "import numpy as np\n",
        "from tensorflow.keras.preprocessing import image\n",
        "test_image = image.load_img('/content/drive/MyDrive/X-ray and CT scan ( binary classification )/TESTING/non-covid/NORMAL2-IM-0007-0001.jpeg', target_size = (64,64))\n",
        "test_image = image.img_to_array(test_image)\n",
        "test_image=test_image/255\n",
        "test_image = np.expand_dims(test_image, axis = 0)\n",
        "result = cnn.predict(test_image)"
      ],
      "execution_count": null,
      "outputs": [
        {
          "output_type": "error",
          "ename": "NameError",
          "evalue": "ignored",
          "traceback": [
            "\u001b[0;31m---------------------------------------------------------------------------\u001b[0m",
            "\u001b[0;31mNameError\u001b[0m                                 Traceback (most recent call last)",
            "\u001b[0;32m<ipython-input-1-cf4d8714dd88>\u001b[0m in \u001b[0;36m<module>\u001b[0;34m()\u001b[0m\n\u001b[1;32m      5\u001b[0m \u001b[0mtest_image\u001b[0m\u001b[0;34m=\u001b[0m\u001b[0mtest_image\u001b[0m\u001b[0;34m/\u001b[0m\u001b[0;36m255\u001b[0m\u001b[0;34m\u001b[0m\u001b[0;34m\u001b[0m\u001b[0m\n\u001b[1;32m      6\u001b[0m \u001b[0mtest_image\u001b[0m \u001b[0;34m=\u001b[0m \u001b[0mnp\u001b[0m\u001b[0;34m.\u001b[0m\u001b[0mexpand_dims\u001b[0m\u001b[0;34m(\u001b[0m\u001b[0mtest_image\u001b[0m\u001b[0;34m,\u001b[0m \u001b[0maxis\u001b[0m \u001b[0;34m=\u001b[0m \u001b[0;36m0\u001b[0m\u001b[0;34m)\u001b[0m\u001b[0;34m\u001b[0m\u001b[0;34m\u001b[0m\u001b[0m\n\u001b[0;32m----> 7\u001b[0;31m \u001b[0mresult\u001b[0m \u001b[0;34m=\u001b[0m \u001b[0mcnn\u001b[0m\u001b[0;34m.\u001b[0m\u001b[0mpredict\u001b[0m\u001b[0;34m(\u001b[0m\u001b[0mtest_image\u001b[0m\u001b[0;34m)\u001b[0m\u001b[0;34m\u001b[0m\u001b[0;34m\u001b[0m\u001b[0m\n\u001b[0m",
            "\u001b[0;31mNameError\u001b[0m: name 'cnn' is not defined"
          ]
        }
      ]
    },
    {
      "cell_type": "code",
      "metadata": {
        "colab": {
          "base_uri": "https://localhost:8080/"
        },
        "id": "yFmKJJXsj9SP",
        "outputId": "e55a42bc-9356-43ce-a45a-b07ef8e0b1f3"
      },
      "source": [
        "result"
      ],
      "execution_count": null,
      "outputs": [
        {
          "output_type": "execute_result",
          "data": {
            "text/plain": [
              "array([[0.00231698, 0.04591101, 0.33338612, 0.12229472, 0.4914042 ,\n",
              "        0.00237948, 0.00230753]], dtype=float32)"
            ]
          },
          "metadata": {
            "tags": []
          },
          "execution_count": 48
        }
      ]
    },
    {
      "cell_type": "code",
      "metadata": {
        "id": "s0NG0reuj-3Q"
      },
      "source": [
        "from tensorflow.keras.models import load_model\n",
        "cnn.save('cnn_with_svm_(multiclass).h5')"
      ],
      "execution_count": null,
      "outputs": []
    },
    {
      "cell_type": "code",
      "metadata": {
        "id": "O7W-MwSHlt5U"
      },
      "source": [
        "model = load_model('cnn_with_svm_(multiclass).h5')"
      ],
      "execution_count": null,
      "outputs": []
    },
    {
      "cell_type": "code",
      "metadata": {
        "id": "QDY-AZOzlvj3",
        "colab": {
          "base_uri": "https://localhost:8080/"
        },
        "outputId": "e89de019-9821-4d9a-95ae-c187961e2ced"
      },
      "source": [
        "model.summary()"
      ],
      "execution_count": null,
      "outputs": [
        {
          "output_type": "stream",
          "text": [
            "Model: \"sequential\"\n",
            "_________________________________________________________________\n",
            "Layer (type)                 Output Shape              Param #   \n",
            "=================================================================\n",
            "conv2d (Conv2D)              (None, 32, 32, 32)        896       \n",
            "_________________________________________________________________\n",
            "max_pooling2d (MaxPooling2D) (None, 16, 16, 32)        0         \n",
            "_________________________________________________________________\n",
            "conv2d_1 (Conv2D)            (None, 16, 16, 32)        9248      \n",
            "_________________________________________________________________\n",
            "max_pooling2d_1 (MaxPooling2 (None, 8, 8, 32)          0         \n",
            "_________________________________________________________________\n",
            "flatten (Flatten)            (None, 2048)              0         \n",
            "_________________________________________________________________\n",
            "dense (Dense)                (None, 128)               262272    \n",
            "_________________________________________________________________\n",
            "dense_1 (Dense)              (None, 7)                 903       \n",
            "=================================================================\n",
            "Total params: 273,319\n",
            "Trainable params: 273,319\n",
            "Non-trainable params: 0\n",
            "_________________________________________________________________\n"
          ],
          "name": "stdout"
        }
      ]
    },
    {
      "cell_type": "code",
      "metadata": {
        "id": "IvGKUtRbUsuS"
      },
      "source": [
        "checkpoint_path = '/content/drive/model.ckpt'\n",
        "checkpoint_dir = os.path.dirname(checkpoint_path)\n",
        "callback = tensorflow.keras.callbacks.ModelCheckpoint(checkpoint_path,save_weights_only=True,verbose=1)"
      ],
      "execution_count": null,
      "outputs": []
    },
    {
      "cell_type": "code",
      "metadata": {
        "id": "erDMjBF_EmfF"
      },
      "source": [
        "import cv2\n",
        "import tensorflow as tf"
      ],
      "execution_count": null,
      "outputs": []
    },
    {
      "cell_type": "code",
      "metadata": {
        "id": "WvqXKidcUrhi"
      },
      "source": [
        ""
      ],
      "execution_count": null,
      "outputs": []
    },
    {
      "cell_type": "code",
      "metadata": {
        "colab": {
          "base_uri": "https://localhost:8080/",
          "height": 334
        },
        "id": "edidq3eYFAXe",
        "outputId": "536b8685-1ce8-4733-ab99-d1877c7069b7"
      },
      "source": [
        "categories = [\"ARDS\",\"COVID-19\",\"NORMAL\",\"PNEMONIA BACTERIA\",\"PNEMONIA VIRUS\",\"SARS\",\"STREPTOCOCCUSS\"]\n",
        "def prepare(filepath):\n",
        "  IMG_SIZE = 64\n",
        "  img_array = cv2.imread(filepath, cv2.IMREAD_GRAYSCALE) \n",
        "  new_array = cv2.resize(img_array, (IMG_SIZE, IMG_SIZE))\n",
        "  return new_array.reshape(-1, IMG_SIZE, IMG_SIZE, 1)\n",
        "\n",
        "model = tf.keras.models.load_model('cnn_with_svm_(multiclass).h5')\n",
        "prediction = model.predict([prepare('COVID-19 (10).jpg')])\n",
        "print(prediction)"
      ],
      "execution_count": null,
      "outputs": [
        {
          "output_type": "error",
          "ename": "error",
          "evalue": "ignored",
          "traceback": [
            "\u001b[0;31m---------------------------------------------------------------------------\u001b[0m",
            "\u001b[0;31merror\u001b[0m                                     Traceback (most recent call last)",
            "\u001b[0;32m<ipython-input-31-007a3f1b1f06>\u001b[0m in \u001b[0;36m<module>\u001b[0;34m()\u001b[0m\n\u001b[1;32m      7\u001b[0m \u001b[0;34m\u001b[0m\u001b[0m\n\u001b[1;32m      8\u001b[0m \u001b[0mmodel\u001b[0m \u001b[0;34m=\u001b[0m \u001b[0mtf\u001b[0m\u001b[0;34m.\u001b[0m\u001b[0mkeras\u001b[0m\u001b[0;34m.\u001b[0m\u001b[0mmodels\u001b[0m\u001b[0;34m.\u001b[0m\u001b[0mload_model\u001b[0m\u001b[0;34m(\u001b[0m\u001b[0;34m'cnn_with_svm_(multiclass).h5'\u001b[0m\u001b[0;34m)\u001b[0m\u001b[0;34m\u001b[0m\u001b[0;34m\u001b[0m\u001b[0m\n\u001b[0;32m----> 9\u001b[0;31m \u001b[0mprediction\u001b[0m \u001b[0;34m=\u001b[0m \u001b[0mmodel\u001b[0m\u001b[0;34m.\u001b[0m\u001b[0mpredict\u001b[0m\u001b[0;34m(\u001b[0m\u001b[0;34m[\u001b[0m\u001b[0mprepare\u001b[0m\u001b[0;34m(\u001b[0m\u001b[0;34m'COVID-19 (10).jpg'\u001b[0m\u001b[0;34m)\u001b[0m\u001b[0;34m]\u001b[0m\u001b[0;34m)\u001b[0m\u001b[0;34m\u001b[0m\u001b[0;34m\u001b[0m\u001b[0m\n\u001b[0m\u001b[1;32m     10\u001b[0m \u001b[0mprint\u001b[0m\u001b[0;34m(\u001b[0m\u001b[0mprediction\u001b[0m\u001b[0;34m)\u001b[0m\u001b[0;34m\u001b[0m\u001b[0;34m\u001b[0m\u001b[0m\n",
            "\u001b[0;32m<ipython-input-31-007a3f1b1f06>\u001b[0m in \u001b[0;36mprepare\u001b[0;34m(filepath)\u001b[0m\n\u001b[1;32m      3\u001b[0m   \u001b[0mIMG_SIZE\u001b[0m \u001b[0;34m=\u001b[0m \u001b[0;36m64\u001b[0m\u001b[0;34m\u001b[0m\u001b[0;34m\u001b[0m\u001b[0m\n\u001b[1;32m      4\u001b[0m   \u001b[0mimg_array\u001b[0m \u001b[0;34m=\u001b[0m \u001b[0mcv2\u001b[0m\u001b[0;34m.\u001b[0m\u001b[0mimread\u001b[0m\u001b[0;34m(\u001b[0m\u001b[0mfilepath\u001b[0m\u001b[0;34m,\u001b[0m \u001b[0mcv2\u001b[0m\u001b[0;34m.\u001b[0m\u001b[0mIMREAD_GRAYSCALE\u001b[0m\u001b[0;34m)\u001b[0m\u001b[0;34m\u001b[0m\u001b[0;34m\u001b[0m\u001b[0m\n\u001b[0;32m----> 5\u001b[0;31m   \u001b[0mnew_array\u001b[0m \u001b[0;34m=\u001b[0m \u001b[0mcv2\u001b[0m\u001b[0;34m.\u001b[0m\u001b[0mresize\u001b[0m\u001b[0;34m(\u001b[0m\u001b[0mimg_array\u001b[0m\u001b[0;34m,\u001b[0m \u001b[0;34m(\u001b[0m\u001b[0mIMG_SIZE\u001b[0m\u001b[0;34m,\u001b[0m \u001b[0mIMG_SIZE\u001b[0m\u001b[0;34m)\u001b[0m\u001b[0;34m)\u001b[0m\u001b[0;34m\u001b[0m\u001b[0;34m\u001b[0m\u001b[0m\n\u001b[0m\u001b[1;32m      6\u001b[0m   \u001b[0;32mreturn\u001b[0m \u001b[0mnew_array\u001b[0m\u001b[0;34m.\u001b[0m\u001b[0mreshape\u001b[0m\u001b[0;34m(\u001b[0m\u001b[0;34m-\u001b[0m\u001b[0;36m1\u001b[0m\u001b[0;34m,\u001b[0m \u001b[0mIMG_SIZE\u001b[0m\u001b[0;34m,\u001b[0m \u001b[0mIMG_SIZE\u001b[0m\u001b[0;34m,\u001b[0m \u001b[0;36m1\u001b[0m\u001b[0;34m)\u001b[0m\u001b[0;34m\u001b[0m\u001b[0;34m\u001b[0m\u001b[0m\n\u001b[1;32m      7\u001b[0m \u001b[0;34m\u001b[0m\u001b[0m\n",
            "\u001b[0;31merror\u001b[0m: OpenCV(4.1.2) /io/opencv/modules/imgproc/src/resize.cpp:3720: error: (-215:Assertion failed) !ssize.empty() in function 'resize'\n"
          ]
        }
      ]
    },
    {
      "cell_type": "code",
      "metadata": {
        "id": "fS6ngKqNPC-S"
      },
      "source": [
        ""
      ],
      "execution_count": null,
      "outputs": []
    }
  ]
}