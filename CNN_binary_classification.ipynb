{
  "nbformat": 4,
  "nbformat_minor": 0,
  "metadata": {
    "colab": {
      "name": "CNN.ipynb",
      "provenance": [],
      "mount_file_id": "1f2z-pPVt9tvzKErnYjkz3EJLDeIcbkP4",
      "authorship_tag": "ABX9TyO8QwqH/lSJGlYdYBunHATU",
      "include_colab_link": true
    },
    "kernelspec": {
      "name": "python3",
      "display_name": "Python 3"
    },
    "language_info": {
      "name": "python"
    },
    "accelerator": "GPU"
  },
  "cells": [
    {
      "cell_type": "markdown",
      "metadata": {
        "id": "view-in-github",
        "colab_type": "text"
      },
      "source": [
        "<a href=\"https://colab.research.google.com/github/Abdullah042973/AI-in-medical-domain/blob/main/CNN_binary_classification.ipynb\" target=\"_parent\"><img src=\"https://colab.research.google.com/assets/colab-badge.svg\" alt=\"Open In Colab\"/></a>"
      ]
    },
    {
      "cell_type": "code",
      "metadata": {
        "id": "jxwW1UzEHXCL"
      },
      "source": [
        "from tensorflow.compat.v1 import ConfigProto\n",
        "from tensorflow.compat.v1 import InteractiveSession\n",
        " \n",
        "config = ConfigProto()\n",
        "config.gpu_options.per_process_gpu_memory_fraction = 0.9\n",
        "config.gpu_options.allow_growth = True\n",
        "session = InteractiveSession(config=config)"
      ],
      "execution_count": null,
      "outputs": []
    },
    {
      "cell_type": "code",
      "metadata": {
        "colab": {
          "base_uri": "https://localhost:8080/",
          "height": 35
        },
        "id": "qVnoQzTTHjbG",
        "outputId": "a3c2bc45-cbe5-420c-9262-bc35a7925d39"
      },
      "source": [
        "import tensorflow as tf\n",
        "from tensorflow.keras.preprocessing.image import ImageDataGenerator\n",
        "tf.__version__"
      ],
      "execution_count": null,
      "outputs": [
        {
          "output_type": "execute_result",
          "data": {
            "application/vnd.google.colaboratory.intrinsic+json": {
              "type": "string"
            },
            "text/plain": [
              "'2.4.1'"
            ]
          },
          "metadata": {
            "tags": []
          },
          "execution_count": 3
        }
      ]
    },
    {
      "cell_type": "code",
      "metadata": {
        "id": "e3A5b0lrHoUs"
      },
      "source": [
        "train_datagen = ImageDataGenerator(rescale = 1./255,\n",
        "                                   shear_range = 0.2,\n",
        "                                   zoom_range = 0.2,\n",
        "                                   horizontal_flip = True)"
      ],
      "execution_count": null,
      "outputs": []
    },
    {
      "cell_type": "code",
      "metadata": {
        "colab": {
          "base_uri": "https://localhost:8080/"
        },
        "id": "Jho2iMb7HqTx",
        "outputId": "08ce5918-21b6-4fb6-db33-3ae0e62901b3"
      },
      "source": [
        "training_set = train_datagen.flow_from_directory('/content/drive/MyDrive/X-ray and CT scan ( binary classification )/TRAINING',\n",
        "                                                 target_size = (64, 64),\n",
        "                                                 batch_size = 32,\n",
        "                                                 class_mode = 'binary')"
      ],
      "execution_count": null,
      "outputs": [
        {
          "output_type": "stream",
          "text": [
            "Found 16127 images belonging to 2 classes.\n"
          ],
          "name": "stdout"
        }
      ]
    },
    {
      "cell_type": "code",
      "metadata": {
        "colab": {
          "base_uri": "https://localhost:8080/"
        },
        "id": "OfYRUOUiHvMP",
        "outputId": "b9b00b94-c921-4d38-98e3-45b7875c131f"
      },
      "source": [
        "test_datagen = ImageDataGenerator(rescale = 1./255)\n",
        "test_set = test_datagen.flow_from_directory('/content/drive/MyDrive/X-ray and CT scan ( binary classification )/TESTING',\n",
        "                                            target_size = (64, 64),\n",
        "                                            batch_size = 32,\n",
        "                                            class_mode = 'binary')"
      ],
      "execution_count": null,
      "outputs": [
        {
          "output_type": "stream",
          "text": [
            "Found 3370 images belonging to 2 classes.\n"
          ],
          "name": "stdout"
        }
      ]
    },
    {
      "cell_type": "code",
      "metadata": {
        "id": "keWPghUaIMD-"
      },
      "source": [
        "from tensorflow.keras.layers import Conv2D\n",
        "from tensorflow.keras.layers import Dense\n",
        "from tensorflow.keras.regularizers import l2"
      ],
      "execution_count": null,
      "outputs": []
    },
    {
      "cell_type": "code",
      "metadata": {
        "id": "jfe_d0TtIP5r"
      },
      "source": [
        "# Initialising the CNN\n",
        "cnn = tf.keras.models.Sequential()\n",
        "\n",
        "# Step 1 - Convolution\n",
        "cnn.add(tf.keras.layers.Conv2D(filters=32,padding=\"same\",kernel_size=3, activation='relu', strides=2, input_shape=[64, 64, 3]))\n",
        "\n",
        "# Step 2 - Pooling\n",
        "cnn.add(tf.keras.layers.MaxPool2D(pool_size=2, strides=2))\n",
        "\n",
        "# Adding a second convolutional layer\n",
        "cnn.add(tf.keras.layers.Conv2D(filters=32,padding='same',kernel_size=3, activation='relu'))\n",
        "cnn.add(tf.keras.layers.MaxPool2D(pool_size=2, strides=2))\n",
        "\n",
        "# Step 3 - Flattening\n",
        "cnn.add(tf.keras.layers.Flatten())\n",
        "\n",
        "# Step 4 - Full Connection\n",
        "cnn.add(tf.keras.layers.Dense(units=128, activation='relu'))\n",
        "\n",
        "# Step 5 - Output Layer\n",
        "cnn.add(tf.keras.layers.Dense(units=1, activation='sigmoid'))\n",
        "## For Binary Classification\n",
        "#cnn.add(Dense(1, kernel_regularizer=tf.keras.regularizers.l2(0.001),activation='linear'))"
      ],
      "execution_count": null,
      "outputs": []
    },
    {
      "cell_type": "code",
      "metadata": {
        "colab": {
          "base_uri": "https://localhost:8080/"
        },
        "id": "2P6EmMkjJGNJ",
        "outputId": "641174aa-1cef-4c9e-d588-856a1615d5a6"
      },
      "source": [
        "# Part 3 - Training the CNN\n",
        "\n",
        "# Compiling the CNN\n",
        "cnn.compile(optimizer = 'adam', loss = 'binary_crossentropy', metrics = ['accuracy'])\n",
        "\n",
        "# Training the CNN on the Training set and evaluating it on the Test set\n",
        "r=cnn.fit(x = training_set, validation_data = test_set, epochs = 50)"
      ],
      "execution_count": null,
      "outputs": [
        {
          "output_type": "stream",
          "text": [
            "Epoch 1/50\n",
            "504/504 [==============================] - 9793s 19s/step - loss: 0.5293 - accuracy: 0.7103 - val_loss: 0.5395 - val_accuracy: 0.7463\n",
            "Epoch 2/50\n",
            "504/504 [==============================] - 326s 646ms/step - loss: 0.3801 - accuracy: 0.8137 - val_loss: 0.5724 - val_accuracy: 0.7246\n",
            "Epoch 3/50\n",
            "504/504 [==============================] - 314s 623ms/step - loss: 0.3402 - accuracy: 0.8444 - val_loss: 0.4992 - val_accuracy: 0.7546\n",
            "Epoch 4/50\n",
            "504/504 [==============================] - 304s 603ms/step - loss: 0.3180 - accuracy: 0.8477 - val_loss: 0.4987 - val_accuracy: 0.7386\n",
            "Epoch 5/50\n",
            "504/504 [==============================] - 303s 601ms/step - loss: 0.2901 - accuracy: 0.8648 - val_loss: 0.5604 - val_accuracy: 0.7368\n",
            "Epoch 6/50\n",
            "504/504 [==============================] - 304s 605ms/step - loss: 0.2620 - accuracy: 0.8816 - val_loss: 0.5327 - val_accuracy: 0.7653\n",
            "Epoch 7/50\n",
            "504/504 [==============================] - 298s 592ms/step - loss: 0.2560 - accuracy: 0.8869 - val_loss: 0.5656 - val_accuracy: 0.7519\n",
            "Epoch 8/50\n",
            "504/504 [==============================] - 298s 592ms/step - loss: 0.2472 - accuracy: 0.8865 - val_loss: 0.6347 - val_accuracy: 0.7412\n",
            "Epoch 9/50\n",
            "504/504 [==============================] - 294s 585ms/step - loss: 0.2407 - accuracy: 0.8924 - val_loss: 0.6014 - val_accuracy: 0.7623\n",
            "Epoch 10/50\n",
            "504/504 [==============================] - 291s 577ms/step - loss: 0.2300 - accuracy: 0.9003 - val_loss: 0.4269 - val_accuracy: 0.8080\n",
            "Epoch 11/50\n",
            "504/504 [==============================] - 289s 574ms/step - loss: 0.2276 - accuracy: 0.8980 - val_loss: 0.5516 - val_accuracy: 0.7751\n",
            "Epoch 12/50\n",
            "504/504 [==============================] - 288s 571ms/step - loss: 0.2200 - accuracy: 0.9035 - val_loss: 0.4784 - val_accuracy: 0.7837\n",
            "Epoch 13/50\n",
            "504/504 [==============================] - 287s 569ms/step - loss: 0.2136 - accuracy: 0.9051 - val_loss: 0.5252 - val_accuracy: 0.7908\n",
            "Epoch 14/50\n",
            "504/504 [==============================] - 286s 567ms/step - loss: 0.2122 - accuracy: 0.9076 - val_loss: 0.6320 - val_accuracy: 0.7591\n",
            "Epoch 15/50\n",
            "504/504 [==============================] - 288s 571ms/step - loss: 0.2026 - accuracy: 0.9091 - val_loss: 0.5492 - val_accuracy: 0.7825\n",
            "Epoch 16/50\n",
            "504/504 [==============================] - 288s 572ms/step - loss: 0.1983 - accuracy: 0.9123 - val_loss: 0.4751 - val_accuracy: 0.8083\n",
            "Epoch 17/50\n",
            "504/504 [==============================] - 288s 571ms/step - loss: 0.1922 - accuracy: 0.9169 - val_loss: 0.6389 - val_accuracy: 0.7754\n",
            "Epoch 18/50\n",
            "504/504 [==============================] - 288s 572ms/step - loss: 0.1965 - accuracy: 0.9162 - val_loss: 0.6002 - val_accuracy: 0.7846\n",
            "Epoch 19/50\n",
            "504/504 [==============================] - 289s 573ms/step - loss: 0.1848 - accuracy: 0.9200 - val_loss: 0.5166 - val_accuracy: 0.8285\n",
            "Epoch 20/50\n",
            "504/504 [==============================] - 287s 569ms/step - loss: 0.1824 - accuracy: 0.9187 - val_loss: 0.4632 - val_accuracy: 0.8303\n",
            "Epoch 21/50\n",
            "504/504 [==============================] - 288s 572ms/step - loss: 0.1859 - accuracy: 0.9175 - val_loss: 0.5581 - val_accuracy: 0.8033\n",
            "Epoch 22/50\n",
            "504/504 [==============================] - 288s 572ms/step - loss: 0.1733 - accuracy: 0.9253 - val_loss: 0.5166 - val_accuracy: 0.8134\n",
            "Epoch 23/50\n",
            "504/504 [==============================] - 288s 572ms/step - loss: 0.1772 - accuracy: 0.9255 - val_loss: 0.5249 - val_accuracy: 0.8101\n",
            "Epoch 24/50\n",
            "504/504 [==============================] - 286s 568ms/step - loss: 0.1648 - accuracy: 0.9277 - val_loss: 0.5788 - val_accuracy: 0.8053\n",
            "Epoch 25/50\n",
            "504/504 [==============================] - 286s 567ms/step - loss: 0.1643 - accuracy: 0.9298 - val_loss: 0.5852 - val_accuracy: 0.8223\n",
            "Epoch 26/50\n",
            "504/504 [==============================] - 286s 568ms/step - loss: 0.1588 - accuracy: 0.9312 - val_loss: 0.4633 - val_accuracy: 0.8395\n",
            "Epoch 27/50\n",
            "504/504 [==============================] - 289s 573ms/step - loss: 0.1585 - accuracy: 0.9327 - val_loss: 0.5477 - val_accuracy: 0.8151\n",
            "Epoch 28/50\n",
            "504/504 [==============================] - 287s 569ms/step - loss: 0.1587 - accuracy: 0.9317 - val_loss: 0.6005 - val_accuracy: 0.8193\n",
            "Epoch 29/50\n",
            "504/504 [==============================] - 285s 566ms/step - loss: 0.1568 - accuracy: 0.9326 - val_loss: 0.5749 - val_accuracy: 0.8199\n",
            "Epoch 30/50\n",
            "504/504 [==============================] - 288s 571ms/step - loss: 0.1603 - accuracy: 0.9304 - val_loss: 0.6332 - val_accuracy: 0.8101\n",
            "Epoch 31/50\n",
            "504/504 [==============================] - 287s 570ms/step - loss: 0.1557 - accuracy: 0.9349 - val_loss: 0.6662 - val_accuracy: 0.8024\n",
            "Epoch 32/50\n",
            "504/504 [==============================] - 287s 569ms/step - loss: 0.1472 - accuracy: 0.9341 - val_loss: 0.6550 - val_accuracy: 0.8083\n",
            "Epoch 33/50\n",
            "504/504 [==============================] - 286s 568ms/step - loss: 0.1473 - accuracy: 0.9362 - val_loss: 0.5747 - val_accuracy: 0.8228\n",
            "Epoch 34/50\n",
            "504/504 [==============================] - 287s 571ms/step - loss: 0.1462 - accuracy: 0.9374 - val_loss: 0.7030 - val_accuracy: 0.7872\n",
            "Epoch 35/50\n",
            "504/504 [==============================] - 286s 567ms/step - loss: 0.1400 - accuracy: 0.9416 - val_loss: 0.5737 - val_accuracy: 0.8181\n",
            "Epoch 36/50\n",
            "504/504 [==============================] - 288s 572ms/step - loss: 0.1373 - accuracy: 0.9419 - val_loss: 0.6438 - val_accuracy: 0.8083\n",
            "Epoch 37/50\n",
            "504/504 [==============================] - 287s 569ms/step - loss: 0.1442 - accuracy: 0.9365 - val_loss: 0.7239 - val_accuracy: 0.7864\n",
            "Epoch 38/50\n",
            "504/504 [==============================] - 287s 570ms/step - loss: 0.1474 - accuracy: 0.9379 - val_loss: 0.5954 - val_accuracy: 0.8104\n",
            "Epoch 39/50\n",
            "504/504 [==============================] - 288s 571ms/step - loss: 0.1424 - accuracy: 0.9384 - val_loss: 0.7505 - val_accuracy: 0.8074\n",
            "Epoch 40/50\n",
            "504/504 [==============================] - 288s 571ms/step - loss: 0.1328 - accuracy: 0.9433 - val_loss: 0.5709 - val_accuracy: 0.8220\n",
            "Epoch 41/50\n",
            "504/504 [==============================] - 288s 572ms/step - loss: 0.1377 - accuracy: 0.9407 - val_loss: 0.5221 - val_accuracy: 0.8522\n",
            "Epoch 42/50\n",
            "504/504 [==============================] - 288s 571ms/step - loss: 0.1291 - accuracy: 0.9433 - val_loss: 0.6051 - val_accuracy: 0.8196\n",
            "Epoch 43/50\n",
            "504/504 [==============================] - 288s 571ms/step - loss: 0.1263 - accuracy: 0.9482 - val_loss: 0.6376 - val_accuracy: 0.8202\n",
            "Epoch 44/50\n",
            "504/504 [==============================] - 287s 571ms/step - loss: 0.1302 - accuracy: 0.9432 - val_loss: 1.0500 - val_accuracy: 0.7395\n",
            "Epoch 45/50\n",
            "504/504 [==============================] - 285s 566ms/step - loss: 0.1258 - accuracy: 0.9467 - val_loss: 0.6341 - val_accuracy: 0.8279\n",
            "Epoch 46/50\n",
            "504/504 [==============================] - 286s 567ms/step - loss: 0.1251 - accuracy: 0.9453 - val_loss: 0.6675 - val_accuracy: 0.8074\n",
            "Epoch 47/50\n",
            "504/504 [==============================] - 285s 566ms/step - loss: 0.1235 - accuracy: 0.9452 - val_loss: 0.6125 - val_accuracy: 0.8151\n",
            "Epoch 48/50\n",
            "504/504 [==============================] - 284s 564ms/step - loss: 0.1209 - accuracy: 0.9489 - val_loss: 0.6105 - val_accuracy: 0.8335\n",
            "Epoch 49/50\n",
            "504/504 [==============================] - 284s 563ms/step - loss: 0.1221 - accuracy: 0.9494 - val_loss: 0.6840 - val_accuracy: 0.8113\n",
            "Epoch 50/50\n",
            "504/504 [==============================] - 283s 561ms/step - loss: 0.1238 - accuracy: 0.9479 - val_loss: 0.7188 - val_accuracy: 0.8024\n"
          ],
          "name": "stdout"
        }
      ]
    },
    {
      "cell_type": "code",
      "metadata": {
        "colab": {
          "base_uri": "https://localhost:8080/",
          "height": 530
        },
        "id": "ab5eajM8JoOI",
        "outputId": "f97b9fca-7e82-416b-b270-02ac9cee9dd2"
      },
      "source": [
        "# plot the loss\n",
        "import matplotlib.pyplot as plt\n",
        "plt.plot(r.history['loss'], label='train loss')\n",
        "plt.plot(r.history['val_loss'], label='val loss')\n",
        "plt.legend()\n",
        "plt.show()\n",
        "plt.savefig('LossVal_loss')\n",
        "\n",
        "# plot the accuracy\n",
        "plt.plot(r.history['accuracy'], label='train acc')\n",
        "plt.plot(r.history['val_accuracy'], label='val acc')\n",
        "plt.legend()\n",
        "plt.show()\n",
        "plt.savefig('AccVal_acc')"
      ],
      "execution_count": null,
      "outputs": [
        {
          "output_type": "display_data",
          "data": {
            "image/png": "[encoded data removed]",
            "text/plain": [
              "<Figure size 432x288 with 1 Axes>"
            ]
          },
          "metadata": {
            "tags": [],
            "needs_background": "light"
          }
        },
        {
          "output_type": "display_data",
          "data": {
            "image/png": "[encoded data removed]",
            "text/plain": [
              "<Figure size 432x288 with 1 Axes>"
            ]
          },
          "metadata": {
            "tags": [],
            "needs_background": "light"
          }
        },
        {
          "output_type": "display_data",
          "data": {
            "text/plain": [
              "<Figure size 432x288 with 0 Axes>"
            ]
          },
          "metadata": {
            "tags": []
          }
        }
      ]
    },
    {
      "cell_type": "code",
      "metadata": {
        "colab": {
          "base_uri": "https://localhost:8080/"
        },
        "id": "1vfmtaMy4-uK",
        "outputId": "879a6e65-79d4-4e8c-e4a2-0b64e41389e3"
      },
      "source": [
        "import numpy as np\n",
        "final_accuracy = r.history[\"val_accuracy\"][-15:]\n",
        "print(\"FINAL ACCURACY MEAN-15: \", np.mean(final_accuracy))"
      ],
      "execution_count": null,
      "outputs": [
        {
          "output_type": "stream",
          "text": [
            "FINAL ACCURACY MEAN-15:  0.8109001000722249\n"
          ],
          "name": "stdout"
        }
      ]
    },
    {
      "cell_type": "code",
      "metadata": {
        "colab": {
          "base_uri": "https://localhost:8080/"
        },
        "id": "K9QbtXOE5CFc",
        "outputId": "24fd6f87-bb76-48db-b340-70f1002e360e"
      },
      "source": [
        "import numpy as np\n",
        "from tensorflow.keras.preprocessing import image\n",
        "test_image = image.load_img('/content/drive/MyDrive/covid xray and ct scan/test/COVID-19/COVID-19 (12).jpeg', target_size = (64,64))\n",
        "test_image = image.img_to_array(test_image)\n",
        "test_image=test_image/255\n",
        "test_image = np.expand_dims(test_image, axis = 0)\n",
        "result = cnn.predict(test_image)\n",
        "result[0]\n",
        "for i in result[0]:\n",
        "  result = i*100\n",
        "  print(float(result))"
      ],
      "execution_count": null,
      "outputs": [
        {
          "output_type": "stream",
          "text": [
            "1.2598027865351469e-05\n"
          ],
          "name": "stdout"
        }
      ]
    },
    {
      "cell_type": "code",
      "metadata": {
        "colab": {
          "base_uri": "https://localhost:8080/"
        },
        "id": "ifpSKZx4AcTC",
        "outputId": "db794b8a-e731-4c8e-8031-6ace97f261b5"
      },
      "source": [
        "cnn.summary()"
      ],
      "execution_count": null,
      "outputs": [
        {
          "output_type": "stream",
          "text": [
            "Model: \"sequential\"\n",
            "_________________________________________________________________\n",
            "Layer (type)                 Output Shape              Param #   \n",
            "=================================================================\n",
            "conv2d (Conv2D)              (None, 32, 32, 32)        896       \n",
            "_________________________________________________________________\n",
            "max_pooling2d (MaxPooling2D) (None, 16, 16, 32)        0         \n",
            "_________________________________________________________________\n",
            "conv2d_1 (Conv2D)            (None, 16, 16, 32)        9248      \n",
            "_________________________________________________________________\n",
            "max_pooling2d_1 (MaxPooling2 (None, 8, 8, 32)          0         \n",
            "_________________________________________________________________\n",
            "flatten (Flatten)            (None, 2048)              0         \n",
            "_________________________________________________________________\n",
            "dense (Dense)                (None, 128)               262272    \n",
            "_________________________________________________________________\n",
            "dense_1 (Dense)              (None, 1)                 129       \n",
            "=================================================================\n",
            "Total params: 272,545\n",
            "Trainable params: 272,545\n",
            "Non-trainable params: 0\n",
            "_________________________________________________________________\n"
          ],
          "name": "stdout"
        }
      ]
    },
    {
      "cell_type": "code",
      "metadata": {
        "id": "p4XuJroXAkCs"
      },
      "source": [
        "import tensorflow as tf\n",
        " \n",
        "from keras.models import load_model\n",
        " \n",
        "cnn.save('CNN (binary classification).h5')"
      ],
      "execution_count": null,
      "outputs": []
    },
    {
      "cell_type": "code",
      "metadata": {
        "id": "97wM6THBycFi"
      },
      "source": [
        ""
      ],
      "execution_count": null,
      "outputs": []
    }
  ]
}